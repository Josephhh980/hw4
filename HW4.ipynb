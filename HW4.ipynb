{
 "cells": [
  {
   "cell_type": "code",
   "execution_count": null,
   "id": "11682c32",
   "metadata": {},
   "outputs": [],
   "source": []
  },
  {
   "cell_type": "raw",
   "id": "740c1aa1",
   "metadata": {},
   "source": [
    "The difference between SD and SEM is for SD, it focus more on the general soread of the datas while SEM focus more\n",
    "on the precisions of the datas. Also, the formula of these two are different. Moreover, SD is pretty independent\n",
    "while SEM decreases as the sample size increases since if sample size increases, the precision of the data will be more accuracy "
   ]
  },
  {
   "cell_type": "code",
   "execution_count": 1,
   "id": "fb7662d7",
   "metadata": {},
   "outputs": [
    {
     "ename": "SyntaxError",
     "evalue": "invalid syntax (4276834274.py, line 1)",
     "output_type": "error",
     "traceback": [
      "\u001b[0;36m  Cell \u001b[0;32mIn[1], line 1\u001b[0;36m\u001b[0m\n\u001b[0;31m    So, first we need to create several bootstraped data, then we should calculate the bootstraped smaple means in order to\u001b[0m\n\u001b[0m              ^\u001b[0m\n\u001b[0;31mSyntaxError\u001b[0m\u001b[0;31m:\u001b[0m invalid syntax\n"
     ]
    }
   ],
   "source": [
    "So, first we need to create several bootstraped data, then we should calculate the bootstraped smaple means in order to \n",
    "determine the central tendency of the bootstraped means. Furthermore, we should calculate the standard error of the means.\n",
    "Then, we can determine the critical value and finally calculate the confidential interval."
   ]
  },
  {
   "cell_type": "code",
   "execution_count": 2,
   "id": "a488d5d2",
   "metadata": {},
   "outputs": [
    {
     "ename": "SyntaxError",
     "evalue": "invalid decimal literal (3964072126.py, line 2)",
     "output_type": "error",
     "traceback": [
      "\u001b[0;36m  Cell \u001b[0;32mIn[2], line 2\u001b[0;36m\u001b[0m\n\u001b[0;31m    the standard error of the mean. Then, we can use the np.quantile()function to find the 2.5th and 97.5th percentiles of\u001b[0m\n\u001b[0m                                                                                             ^\u001b[0m\n\u001b[0;31mSyntaxError\u001b[0m\u001b[0;31m:\u001b[0m invalid decimal literal\n"
     ]
    }
   ],
   "source": [
    "first we should create the bootstraped sample and then calculate the means of each bootstraped sample. Then, we calculate\n",
    "the standard error of the mean. Then, we can use the np.quantile()function to find the 2.5th and 97.5th percentiles of \n",
    "the distribution of bootstrapped means, which represent the lower and upper bounds of the 95% confidential interval"
   ]
  },
  {
   "cell_type": "code",
   "execution_count": 5,
   "id": "fa6805ff",
   "metadata": {},
   "outputs": [
    {
     "ename": "SyntaxError",
     "evalue": "invalid syntax (1947865228.py, line 1)",
     "output_type": "error",
     "traceback": [
      "\u001b[0;36m  Cell \u001b[0;32mIn[5], line 1\u001b[0;36m\u001b[0m\n\u001b[0;31m    First it bootstraped the sample code and calculate the means of each bootstraped sample, then it determined the upper and lower percentile\u001b[0m\n\u001b[0m          ^\u001b[0m\n\u001b[0;31mSyntaxError\u001b[0m\u001b[0;31m:\u001b[0m invalid syntax\n"
     ]
    }
   ],
   "source": [
    "First it bootstraped the sample code and calculate the means of each bootstraped sample, then it determined the upper and lower percentile\n",
    "of the sample in order to find out the 95% confidential interval. And we can change the code from np.mean()into np.median() \n",
    "as we are now estimating the population median rather than the population mean. Moreover, we can change the population variance \n",
    "and the standard deviation and population quantile for different population parameter."
   ]
  },
  {
   "cell_type": "code",
   "execution_count": 6,
   "id": "87be44b2",
   "metadata": {},
   "outputs": [
    {
     "ename": "SyntaxError",
     "evalue": "invalid syntax (3325612285.py, line 1)",
     "output_type": "error",
     "traceback": [
      "\u001b[0;36m  Cell \u001b[0;32mIn[6], line 1\u001b[0;36m\u001b[0m\n\u001b[0;31m    This is crucial as the sample statistic serves as the point estimate around which the confidence interval is constructed while\u001b[0m\n\u001b[0m                    ^\u001b[0m\n\u001b[0;31mSyntaxError\u001b[0m\u001b[0;31m:\u001b[0m invalid syntax\n"
     ]
    }
   ],
   "source": [
    "This is crucial as the sample statistic serves as the point estimate around which the confidence interval is constructed while\n",
    "the confidential interval ggives a range of values within the population parameters based on the sample data."
   ]
  },
  {
   "cell_type": "code",
   "execution_count": 7,
   "id": "7672ed89",
   "metadata": {},
   "outputs": [
    {
     "ename": "SyntaxError",
     "evalue": "expected 'else' after 'if' expression (3969813186.py, line 1)",
     "output_type": "error",
     "traceback": [
      "\u001b[0;36m  Cell \u001b[0;32mIn[7], line 1\u001b[0;36m\u001b[0m\n\u001b[0;31m    The process if bootstraping is first find a sample size and then resample it with replacement. Then calculate the sample mean\u001b[0m\n\u001b[0m        ^\u001b[0m\n\u001b[0;31mSyntaxError\u001b[0m\u001b[0;31m:\u001b[0m expected 'else' after 'if' expression\n"
     ]
    }
   ],
   "source": [
    "The process if bootstraping is first find a sample size and then resample it with replacement. Then calculate the sample mean\n",
    "of the data and repeat the resampling and we can construct a distribution of the sample. The main purpose is to estimate the sampling\n",
    "distribution of a statistic like estimate the confidential interval and assess the variability of a sample statistic."
   ]
  },
  {
   "cell_type": "code",
   "execution_count": null,
   "id": "89e7d472",
   "metadata": {},
   "outputs": [],
   "source": []
  },
  {
   "cell_type": "raw",
   "id": "285e9bfd",
   "metadata": {},
   "source": []
  },
  {
   "cell_type": "code",
   "execution_count": 3,
   "id": "d642fd9e",
   "metadata": {},
   "outputs": [
    {
     "ename": "SyntaxError",
     "evalue": "invalid syntax (1623938737.py, line 1)",
     "output_type": "error",
     "traceback": [
      "\u001b[0;36m  Cell \u001b[0;32mIn[3], line 1\u001b[0;36m\u001b[0m\n\u001b[0;31m    The main purpose of bootstrap is to estimate the confidence interval for population parameters and meanwhile access the variability\u001b[0m\n\u001b[0m        ^\u001b[0m\n\u001b[0;31mSyntaxError\u001b[0m\u001b[0;31m:\u001b[0m invalid syntax\n"
     ]
    }
   ],
   "source": [
    "The main purpose of bootstrap is to estimate the confidence interval for population parameters and meanwhile access the variability \n",
    "of the statistics"
   ]
  },
  {
   "cell_type": "code",
   "execution_count": 5,
   "id": "d5804c81",
   "metadata": {},
   "outputs": [
    {
     "ename": "SyntaxError",
     "evalue": "invalid syntax (2787909340.py, line 1)",
     "output_type": "error",
     "traceback": [
      "\u001b[0;36m  Cell \u001b[0;32mIn[5], line 1\u001b[0;36m\u001b[0m\n\u001b[0;31m    we should first obtain a sample and then resample it with replacement. then we should calculate the sample mean for each\u001b[0m\n\u001b[0m       ^\u001b[0m\n\u001b[0;31mSyntaxError\u001b[0m\u001b[0;31m:\u001b[0m invalid syntax\n"
     ]
    }
   ],
   "source": [
    "we should first obtain a sample and then resample it with replacement. then we should calculate the sample mean for each \n",
    "each bootstrap sample. then we should construct a confidence interval and finally compare it with hypothesized means"
   ]
  },
  {
   "cell_type": "code",
   "execution_count": 6,
   "id": "cf2cad69",
   "metadata": {},
   "outputs": [
    {
     "ename": "SyntaxError",
     "evalue": "unterminated string literal (detected at line 3) (1996796518.py, line 3)",
     "output_type": "error",
     "traceback": [
      "\u001b[0;36m  Cell \u001b[0;32mIn[6], line 3\u001b[0;36m\u001b[0m\n\u001b[0;31m    the drug is zero. Since zero is within the interval of plausible values, you don't have enough evidence to\u001b[0m\n\u001b[0m                                                                                    ^\u001b[0m\n\u001b[0;31mSyntaxError\u001b[0m\u001b[0;31m:\u001b[0m unterminated string literal (detected at line 3)\n"
     ]
    }
   ],
   "source": [
    "When a confidence interval includes zero, this means that one plausible value for the population parameter is zero,\n",
    "which corresponds to no effect. In other words, based on the sample data, it is possible that the true effect of \n",
    "the drug is zero. Since zero is within the interval of plausible values, you don't have enough evidence to \n",
    "confidently say that the drug has a non-zero effect. Therefore, you fail to reject the null hypothesis because the \n",
    "data do not provide strong enough evidence to refute the idea that the drug has no effect on average."
   ]
  },
  {
   "cell_type": "code",
   "execution_count": 7,
   "id": "75630b65",
   "metadata": {},
   "outputs": [
    {
     "ename": "SyntaxError",
     "evalue": "invalid syntax (1607395725.py, line 1)",
     "output_type": "error",
     "traceback": [
      "\u001b[0;36m  Cell \u001b[0;32mIn[7], line 1\u001b[0;36m\u001b[0m\n\u001b[0;31m    If the confidence interval excludes zero, it suggests that zero is not a plausible value for the population\u001b[0m\n\u001b[0m       ^\u001b[0m\n\u001b[0;31mSyntaxError\u001b[0m\u001b[0;31m:\u001b[0m invalid syntax\n"
     ]
    }
   ],
   "source": [
    "If the confidence interval excludes zero, it suggests that zero is not a plausible value for the population \n",
    "parameter. This means the data provide sufficient evidence to conclude that the drug has a non-zero effect on \n",
    "average. In this case, you would reject the null hypothesis because the interval implies that the true effect is \n",
    "likely to be either entirely positive or entirely negative, depending on the direction of the effect."
   ]
  },
  {
   "cell_type": "code",
   "execution_count": null,
   "id": "048a1ab1",
   "metadata": {},
   "outputs": [],
   "source": [
    "The original mean value is 3.3 and the bootstrapped mean value is 3.31, which is very closed to the original and the confidence interval doe not include 0\n",
    "so the vaccain is pretty effective."
   ]
  },
  {
   "cell_type": "code",
   "execution_count": 11,
   "id": "c57681be",
   "metadata": {},
   "outputs": [
    {
     "ename": "NameError",
     "evalue": "name 'yeah' is not defined",
     "output_type": "error",
     "traceback": [
      "\u001b[0;31m---------------------------------------------------------------------------\u001b[0m",
      "\u001b[0;31mNameError\u001b[0m                                 Traceback (most recent call last)",
      "Cell \u001b[0;32mIn[11], line 1\u001b[0m\n\u001b[0;32m----> 1\u001b[0m \u001b[43myeah\u001b[49m\n",
      "\u001b[0;31mNameError\u001b[0m: name 'yeah' is not defined"
     ]
    }
   ],
   "source": [
    "yeah"
   ]
  },
  {
   "cell_type": "code",
   "execution_count": 12,
   "id": "eb99520c",
   "metadata": {},
   "outputs": [
    {
     "ename": "SyntaxError",
     "evalue": "invalid decimal literal (2996307094.py, line 1)",
     "output_type": "error",
     "traceback": [
      "\u001b[0;36m  Cell \u001b[0;32mIn[12], line 1\u001b[0;36m\u001b[0m\n\u001b[0;31m    https://chatgpt.com/share/66fe0083-11d8-800b-940d-fb973394876e\u001b[0m\n\u001b[0m                               ^\u001b[0m\n\u001b[0;31mSyntaxError\u001b[0m\u001b[0;31m:\u001b[0m invalid decimal literal\n"
     ]
    }
   ],
   "source": [
    "https://chatgpt.com/share/66fe0083-11d8-800b-940d-fb973394876e"
   ]
  },
  {
   "cell_type": "code",
   "execution_count": null,
   "id": "e93cf7d5",
   "metadata": {},
   "outputs": [],
   "source": []
  }
 ],
 "metadata": {
  "kernelspec": {
   "display_name": "Python 3 (ipykernel)",
   "language": "python",
   "name": "python3"
  },
  "language_info": {
   "codemirror_mode": {
    "name": "ipython",
    "version": 3
   },
   "file_extension": ".py",
   "mimetype": "text/x-python",
   "name": "python",
   "nbconvert_exporter": "python",
   "pygments_lexer": "ipython3",
   "version": "3.11.6"
  }
 },
 "nbformat": 4,
 "nbformat_minor": 5
}
